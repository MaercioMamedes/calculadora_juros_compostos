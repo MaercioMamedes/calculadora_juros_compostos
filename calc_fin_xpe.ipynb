{
  "nbformat": 4,
  "nbformat_minor": 0,
  "metadata": {
    "colab": {
      "provenance": []
    },
    "kernelspec": {
      "name": "python3",
      "display_name": "Python 3"
    },
    "language_info": {
      "name": "python"
    }
  },
  "cells": [
    {
      "cell_type": "markdown",
      "source": [
        "# Calculadora financeira interativa\n",
        "## Trabalho Prático Módulo 1: Fundamentos de Programação para Ciência de Dados"
      ],
      "metadata": {
        "id": "I1PbSm3GMWUX"
      }
    },
    {
      "cell_type": "code",
      "source": [
        "# import de bibliotecas\n",
        "\n",
        "from math import log"
      ],
      "metadata": {
        "id": "3u2lY0RrMSjp"
      },
      "execution_count": 12,
      "outputs": []
    },
    {
      "cell_type": "markdown",
      "source": [
        "### Calculo de valor futruro\n",
        "\n",
        "$$ vf = ci \\cdot (1 + i)^t $$"
      ],
      "metadata": {
        "id": "L_JsX-y5Kl55"
      }
    },
    {
      "cell_type": "code",
      "source": [
        "# Calculo de valor futuro\n",
        "\n",
        "def calcular_valor_futuro():\n",
        "    capital_inicial = float(input(\"Digite o valor do capital inicial: \"))\n",
        "    taxa_juros_mensal = float(input(\"Digite a taxa de juros mensal: \"))\n",
        "    periodo_em_meses = int(input(\"Digite o período em meses: \"))\n",
        "\n",
        "    valor_futuro = capital_inicial * (1 + taxa_juros_mensal) ** periodo_em_meses\n",
        "\n",
        "    return valor_futuro\n"
      ],
      "metadata": {
        "id": "dUUAt6fjJmfT"
      },
      "execution_count": 13,
      "outputs": []
    },
    {
      "cell_type": "markdown",
      "source": [
        "### Calculo de capital inicial\n",
        "\n",
        "$$ ci = \\frac{vf}{(1 + i)^t} $$\n"
      ],
      "metadata": {
        "id": "iwV7DO9LM6ZZ"
      }
    },
    {
      "cell_type": "code",
      "source": [
        "# Cálculo de capital inicial\n",
        "\n",
        "def calcular_capital_inicial():\n",
        "    valor_final = float(input(\"Digite o valor final: \"))\n",
        "    taxa_juros_mensal = float(input(\"Digite a taxa de juros mensal: \"))\n",
        "    periodo_em_meses = int(input(\"Digite o período em meses: \"))\n",
        "\n",
        "    capital_inicial = valor_final / (1 + taxa_juros_mensal) ** periodo_em_meses\n",
        "\n",
        "    return capital_inicial"
      ],
      "metadata": {
        "id": "M-CSDhp4M406"
      },
      "execution_count": 14,
      "outputs": []
    },
    {
      "cell_type": "markdown",
      "source": [
        "### Cálculo da taxa de juros\n",
        "\n",
        "$$ i = \\left(\\frac{vf}{ci}\\right)^{\\frac{1}{t}} - 1 $$\n"
      ],
      "metadata": {
        "id": "PC25t-hONsjf"
      }
    },
    {
      "cell_type": "code",
      "source": [
        "# calculo da taxa de juros\n",
        "\n",
        "def calcular_taxa_juros():\n",
        "    valor_final = float(input(\"Digite o valor final: \"))\n",
        "    capital_inicial = float(input(\"Digite o capital inicial: \"))\n",
        "    periodo_em_meses = int(input(\"Digite o período em meses: \"))\n",
        "\n",
        "    taxa_juros = (valor_final / capital_inicial) ** (1 / periodo_em_meses) - 1\n",
        "\n",
        "    return taxa_juros"
      ],
      "metadata": {
        "id": "A1ZlE5egOBGf"
      },
      "execution_count": 15,
      "outputs": []
    },
    {
      "cell_type": "markdown",
      "source": [
        "### Cálculo do período\n",
        "$$ t = \\frac{\\log(vf / ci)}{\\log(1 + i)} $$\n",
        "\n"
      ],
      "metadata": {
        "id": "xwphudtDObPb"
      }
    },
    {
      "cell_type": "code",
      "source": [
        "# calculo de período\n",
        "\n",
        "def calcular_periodo():\n",
        "    valor_final = float(input(\"Digite o valor final: \"))\n",
        "    capital_inicial = float(input(\"Digite o capital inicial: \"))\n",
        "    taxa_juros_mensal = float(input(\"Digite a taxa de juros mensal: \"))\n",
        "\n",
        "    periodo = log(valor_final / capital_inicial) / log(1 + taxa_juros_mensal)\n",
        "\n",
        "    return int(periodo)"
      ],
      "metadata": {
        "id": "UI52cHAWOrGD"
      },
      "execution_count": 16,
      "outputs": []
    },
    {
      "cell_type": "markdown",
      "source": [
        "## Menu Inicial"
      ],
      "metadata": {
        "id": "_3d7e6gfPUt4"
      }
    },
    {
      "cell_type": "code",
      "source": [
        "# menu\n",
        "\n",
        "def menu():\n",
        "    print(\"O que você gostaria de calcular?\\n\")\n",
        "    print(\"1. Calcular valor futuro (vf)\")\n",
        "    print(\"2. Calcular capital inicial (ci)\")\n",
        "    print(\"3. Calcular taxa de juros (i)\")\n",
        "    print(\"4. Calcular período (t)\")\n",
        "\n",
        "    escolha = input(\"Digite o número da opção desejada: \")\n",
        "\n",
        "    if escolha == \"1\":\n",
        "        print(\"\\n Calculando o valor futuro...\\n\")\n",
        "        valor_futuro = calcular_valor_futuro()\n",
        "        print(f\"O valor futuro é R${valor_futuro:.2f}\")\n",
        "\n",
        "    elif escolha == \"2\":\n",
        "        capital_inicial = calcular_capital_inicial()\n",
        "        print(f\"O capital inicial é R${capital_inicial:.2f}\")\n",
        "\n",
        "    elif escolha == \"3\":\n",
        "        print(\"\\n Calculando a taxa de juros...\\n\")\n",
        "        taxa_juros = calcular_taxa_juros()\n",
        "        print(f\"A taxa de juros é {taxa_juros:.2%}\")\n",
        "\n",
        "    elif escolha == \"4\":\n",
        "        print(\"\\n Calculando o período...\\n\")\n",
        "        periodo = calcular_periodo()\n",
        "        print(f\"O período é {periodo} meses\")\n",
        "    else:\n",
        "        print(\"Opção inválida. Por favor, escolha uma opção válida.\")\n",
        "        menu()"
      ],
      "metadata": {
        "id": "krBMB9k0PHJY"
      },
      "execution_count": 17,
      "outputs": []
    },
    {
      "cell_type": "code",
      "source": [
        "# inicialização\n",
        "\n",
        "print(\"\\nBem-vindo à calculadora de Juros Compostos!\\n\")\n",
        "\n",
        "while True:\n",
        "    menu()\n",
        "    continuar = input(\"Deseja calcular algo mais? (s/n): \")\n",
        "    if continuar.lower() == \"n\":\n",
        "        print(\"\\nObrigado por usar a calculadora de Juros Compostos!\")\n",
        "        break\n",
        "    elif continuar.lower() == \"s\":\n",
        "        continue\n",
        "    else:\n",
        "        print(\"opção inválida!\\n\")\n",
        "        continue\n",
        "\n",
        ""
      ],
      "metadata": {
        "id": "v6bXo-5sQowe"
      },
      "execution_count": null,
      "outputs": []
    }
  ]
}